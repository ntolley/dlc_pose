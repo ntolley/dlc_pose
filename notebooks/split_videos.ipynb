{
 "cells": [
  {
   "cell_type": "code",
   "execution_count": 1,
   "metadata": {},
   "outputs": [],
   "source": [
    "import matplotlib.pyplot as plt\n",
    "import numpy as np\n",
    "import scipy.io as sio\n",
    "import pickle\n",
    "import moviepy.editor"
   ]
  },
  {
   "cell_type": "code",
   "execution_count": 2,
   "metadata": {},
   "outputs": [],
   "source": [
    "fpath = '../data/task_data/'\n",
    "experiment_dict = sio.loadmat(f'{fpath}eventsCB1_corrected2.mat')\n",
    "ev_ex = experiment_dict['eventsCB1']\n"
   ]
  },
  {
   "cell_type": "code",
   "execution_count": 28,
   "metadata": {},
   "outputs": [],
   "source": [
    "# Load variables from struct (struct indexing is unfortunately hideous)\n",
    "tgtON = ev_ex['tgtON_C'][0][0][0]\n",
    "gocON = ev_ex['gocON_C'][0][0][0]\n",
    "endhold = ev_ex['endhold_C'][0][0][0]\n",
    "\n",
    "\n"
   ]
  },
  {
   "cell_type": "code",
   "execution_count": 30,
   "metadata": {},
   "outputs": [],
   "source": [
    "cam_start = 14.851"
   ]
  },
  {
   "cell_type": "code",
   "execution_count": 31,
   "metadata": {},
   "outputs": [
    {
     "name": "stdout",
     "output_type": "stream",
     "text": [
      "Moviepy - Building video ../data/video_trials/SpikeCam1_03-08-1557_trials_long.mp4.\n",
      "Moviepy - Writing video ../data/video_trials/SpikeCam1_03-08-1557_trials_long.mp4\n",
      "\n"
     ]
    },
    {
     "name": "stderr",
     "output_type": "stream",
     "text": [
      "                                                                   \r"
     ]
    },
    {
     "name": "stdout",
     "output_type": "stream",
     "text": [
      "Moviepy - Done !\n",
      "Moviepy - video ready ../data/video_trials/SpikeCam1_03-08-1557_trials_long.mp4\n",
      "Moviepy - Building video ../data/video_trials/SpikeCam2_03-08-1557_trials_long.mp4.\n",
      "Moviepy - Writing video ../data/video_trials/SpikeCam2_03-08-1557_trials_long.mp4\n",
      "\n"
     ]
    },
    {
     "name": "stderr",
     "output_type": "stream",
     "text": [
      "                                                                   \r"
     ]
    },
    {
     "name": "stdout",
     "output_type": "stream",
     "text": [
      "Moviepy - Done !\n",
      "Moviepy - video ready ../data/video_trials/SpikeCam2_03-08-1557_trials_long.mp4\n",
      "Moviepy - Building video ../data/video_trials/SpikeCam3_03-08-1557_trials_long.mp4.\n",
      "Moviepy - Writing video ../data/video_trials/SpikeCam3_03-08-1557_trials_long.mp4\n",
      "\n"
     ]
    },
    {
     "name": "stderr",
     "output_type": "stream",
     "text": [
      "                                                                   \r"
     ]
    },
    {
     "name": "stdout",
     "output_type": "stream",
     "text": [
      "Moviepy - Done !\n",
      "Moviepy - video ready ../data/video_trials/SpikeCam3_03-08-1557_trials_long.mp4\n",
      "Moviepy - Building video ../data/video_trials/SpikeCam4_03-08-1557_trials_long.mp4.\n",
      "Moviepy - Writing video ../data/video_trials/SpikeCam4_03-08-1557_trials_long.mp4\n",
      "\n"
     ]
    },
    {
     "name": "stderr",
     "output_type": "stream",
     "text": [
      "                                                                   \r"
     ]
    },
    {
     "name": "stdout",
     "output_type": "stream",
     "text": [
      "Moviepy - Done !\n",
      "Moviepy - video ready ../data/video_trials/SpikeCam4_03-08-1557_trials_long.mp4\n",
      "Moviepy - Building video ../data/video_trials/SpikeCam5_03-08-1557_trials_long.mp4.\n",
      "Moviepy - Writing video ../data/video_trials/SpikeCam5_03-08-1557_trials_long.mp4\n",
      "\n"
     ]
    },
    {
     "name": "stderr",
     "output_type": "stream",
     "text": [
      "                                                                   \r"
     ]
    },
    {
     "name": "stdout",
     "output_type": "stream",
     "text": [
      "Moviepy - Done !\n",
      "Moviepy - video ready ../data/video_trials/SpikeCam5_03-08-1557_trials_long.mp4\n",
      "Moviepy - Building video ../data/video_trials/SpikeCam6_03-08-1557_trials_long.mp4.\n",
      "Moviepy - Writing video ../data/video_trials/SpikeCam6_03-08-1557_trials_long.mp4\n",
      "\n"
     ]
    },
    {
     "name": "stderr",
     "output_type": "stream",
     "text": [
      "                                                                   \r"
     ]
    },
    {
     "name": "stdout",
     "output_type": "stream",
     "text": [
      "Moviepy - Done !\n",
      "Moviepy - video ready ../data/video_trials/SpikeCam6_03-08-1557_trials_long.mp4\n"
     ]
    }
   ],
   "source": [
    "# loading video dsa gfg intro video\n",
    "for cam_idx in range(1,7):\n",
    "    clip = moviepy.editor.VideoFileClip(f'../data/videos/SpikeCam{cam_idx}_03-08-1557.mp4')\n",
    "\n",
    "    clip_list = list()\n",
    "    for trial_idx, (tstart, tstop) in enumerate(zip(tgtON - 1, endhold)):\n",
    "        trial_clip = clip.subclip(tstart - cam_start, tstop - cam_start)\n",
    "        clip_list.append(trial_clip)\n",
    "\n",
    "\n",
    "    # concatenating both the clips\n",
    "    final = moviepy.editor.concatenate_videoclips(clip_list)\n",
    "\n",
    "    #writing the video into a file / saving the combined video\n",
    "    final.write_videofile(f'../data/video_trials/SpikeCam{cam_idx}_03-08-1557_trials_long.mp4', fps=40)\n"
   ]
  },
  {
   "cell_type": "code",
   "execution_count": 32,
   "metadata": {},
   "outputs": [],
   "source": [
    "# Stack clips into array\n",
    "clip_list = list()\n",
    "for cam_idx in range(1,7):\n",
    "    clip = moviepy.editor.VideoFileClip(f'../data/video_trials/SpikeCam{cam_idx}_03-08-1557_trials_long.mp4')\n",
    "    clip_list.append(clip)\n",
    "clips_array = [[clip_list[0], clip_list[1], clip_list[2]], [clip_list[3], clip_list[4], clip_list[5]]]"
   ]
  },
  {
   "cell_type": "code",
   "execution_count": null,
   "metadata": {},
   "outputs": [],
   "source": []
  },
  {
   "cell_type": "code",
   "execution_count": 33,
   "metadata": {},
   "outputs": [
    {
     "name": "stdout",
     "output_type": "stream",
     "text": [
      "Moviepy - Building video Spike_03-08-1557_trials_stacked_long.mp4.\n",
      "Moviepy - Writing video Spike_03-08-1557_trials_stacked_long.mp4\n",
      "\n"
     ]
    },
    {
     "name": "stderr",
     "output_type": "stream",
     "text": [
      "                                                                      \r"
     ]
    },
    {
     "name": "stdout",
     "output_type": "stream",
     "text": [
      "Moviepy - Done !\n",
      "Moviepy - video ready Spike_03-08-1557_trials_stacked_long.mp4\n"
     ]
    }
   ],
   "source": [
    "final_clip = moviepy.editor.clips_array(clips_array)\n",
    "final_clip.write_videofile(\"Spike_03-08-1557_trials_stacked_long.mp4\")"
   ]
  },
  {
   "cell_type": "code",
   "execution_count": null,
   "metadata": {},
   "outputs": [],
   "source": []
  }
 ],
 "metadata": {
  "kernelspec": {
   "display_name": "Python 3.8.16 ('DLC')",
   "language": "python",
   "name": "python3"
  },
  "language_info": {
   "codemirror_mode": {
    "name": "ipython",
    "version": 3
   },
   "file_extension": ".py",
   "mimetype": "text/x-python",
   "name": "python",
   "nbconvert_exporter": "python",
   "pygments_lexer": "ipython3",
   "version": "3.8.16"
  },
  "orig_nbformat": 4,
  "vscode": {
   "interpreter": {
    "hash": "5dc71ca6b8380d643f679145842051aa13293529e49ec11dff3e761003b5a87e"
   }
  }
 },
 "nbformat": 4,
 "nbformat_minor": 2
}
