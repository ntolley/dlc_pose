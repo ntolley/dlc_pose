{
 "cells": [
  {
   "cell_type": "code",
   "execution_count": 1,
   "metadata": {},
   "outputs": [],
   "source": [
    "import matplotlib.pyplot as plt\n",
    "import numpy as np\n",
    "import scipy.io as sio\n",
    "import pickle\n",
    "import moviepy.editor\n",
    "import os"
   ]
  },
  {
   "cell_type": "code",
   "execution_count": 2,
   "metadata": {},
   "outputs": [],
   "source": [
    "fpath = '../data/task_data/'\n",
    "experiment_dict = sio.loadmat(f'{fpath}eventsCB1_corrected2.mat')\n",
    "ev_ex = experiment_dict['eventsCB1']\n"
   ]
  },
  {
   "cell_type": "code",
   "execution_count": 8,
   "metadata": {},
   "outputs": [],
   "source": [
    "# Load variables from struct (struct indexing is unfortunately hideous)\n",
    "tgtON = ev_ex['tgtON_C'][0][0][0]\n",
    "gocON = ev_ex['gocON_C'][0][0][0]\n",
    "endhold = ev_ex['endhold_C'][0][0][0]\n",
    "layout = ev_ex['LAYOUT_C'][0][0][0]\n",
    "position = ev_ex['POSITION_C'][0][0][0]\n",
    "\n"
   ]
  },
  {
   "cell_type": "code",
   "execution_count": null,
   "metadata": {},
   "outputs": [],
   "source": []
  },
  {
   "cell_type": "code",
   "execution_count": null,
   "metadata": {},
   "outputs": [],
   "source": []
  },
  {
   "cell_type": "code",
   "execution_count": 9,
   "metadata": {},
   "outputs": [],
   "source": [
    "cam_start = 14.851"
   ]
  },
  {
   "cell_type": "code",
   "execution_count": 12,
   "metadata": {},
   "outputs": [
    {
     "ename": "FileExistsError",
     "evalue": "[Errno 17] File exists: '../data/video_trial_type/position1_layout1/'",
     "output_type": "error",
     "traceback": [
      "\u001b[0;31m---------------------------------------------------------------------------\u001b[0m",
      "\u001b[0;31mFileExistsError\u001b[0m                           Traceback (most recent call last)",
      "\u001b[1;32m/home/nick/Donoghue_lab/dlc_pose/notebooks/split_videos trial_type.ipynb Cellule 7\u001b[0m in \u001b[0;36m<cell line: 2>\u001b[0;34m()\u001b[0m\n\u001b[1;32m     <a href='vscode-notebook-cell:/home/nick/Donoghue_lab/dlc_pose/notebooks/split_videos%20trial_type.ipynb#W4sZmlsZQ%3D%3D?line=19'>20</a>\u001b[0m trial_dir \u001b[39m=\u001b[39m \u001b[39mf\u001b[39m\u001b[39m'\u001b[39m\u001b[39mposition\u001b[39m\u001b[39m{\u001b[39;00mposition_idx\u001b[39m}\u001b[39;00m\u001b[39m_layout\u001b[39m\u001b[39m{\u001b[39;00mlayout_idx\u001b[39m}\u001b[39;00m\u001b[39m'\u001b[39m\n\u001b[1;32m     <a href='vscode-notebook-cell:/home/nick/Donoghue_lab/dlc_pose/notebooks/split_videos%20trial_type.ipynb#W4sZmlsZQ%3D%3D?line=20'>21</a>\u001b[0m \u001b[39mif\u001b[39;00m \u001b[39mnot\u001b[39;00m os\u001b[39m.\u001b[39mpath\u001b[39m.\u001b[39mexists(trial_dir):\n\u001b[0;32m---> <a href='vscode-notebook-cell:/home/nick/Donoghue_lab/dlc_pose/notebooks/split_videos%20trial_type.ipynb#W4sZmlsZQ%3D%3D?line=21'>22</a>\u001b[0m     os\u001b[39m.\u001b[39;49mmkdir(\u001b[39mf\u001b[39;49m\u001b[39m'\u001b[39;49m\u001b[39m../data/video_trial_type/\u001b[39;49m\u001b[39m{\u001b[39;49;00mtrial_dir\u001b[39m}\u001b[39;49;00m\u001b[39m/\u001b[39;49m\u001b[39m'\u001b[39;49m)\n\u001b[1;32m     <a href='vscode-notebook-cell:/home/nick/Donoghue_lab/dlc_pose/notebooks/split_videos%20trial_type.ipynb#W4sZmlsZQ%3D%3D?line=23'>24</a>\u001b[0m \u001b[39m#writing the video into a file / saving the combined video\u001b[39;00m\n\u001b[1;32m     <a href='vscode-notebook-cell:/home/nick/Donoghue_lab/dlc_pose/notebooks/split_videos%20trial_type.ipynb#W4sZmlsZQ%3D%3D?line=24'>25</a>\u001b[0m final\u001b[39m.\u001b[39mwrite_videofile(\u001b[39mf\u001b[39m\u001b[39m'\u001b[39m\u001b[39m../data/video_trial_type/\u001b[39m\u001b[39m{\u001b[39;00mtrial_dir\u001b[39m}\u001b[39;00m\u001b[39m/SpikeCam\u001b[39m\u001b[39m{\u001b[39;00mcam_idx\u001b[39m}\u001b[39;00m\u001b[39m_03-08-1557_position\u001b[39m\u001b[39m{\u001b[39;00mposition_idx\u001b[39m}\u001b[39;00m\u001b[39m_layout\u001b[39m\u001b[39m{\u001b[39;00mlayout_idx\u001b[39m}\u001b[39;00m\u001b[39m.mp4\u001b[39m\u001b[39m'\u001b[39m, fps\u001b[39m=\u001b[39m\u001b[39m40\u001b[39m)\n",
      "\u001b[0;31mFileExistsError\u001b[0m: [Errno 17] File exists: '../data/video_trial_type/position1_layout1/'"
     ]
    }
   ],
   "source": [
    "# loading video dsa gfg intro video\n",
    "for cam_idx in range(2,7):\n",
    "    clip = moviepy.editor.VideoFileClip(f'../data/videos/SpikeCam{cam_idx}_03-08-1557.mp4')\n",
    "\n",
    "    for layout_idx in range(1,5):\n",
    "        for position_idx in range(1,5):\n",
    "            \n",
    "            layout_mask = layout == layout_idx\n",
    "            position_mask = position == position_idx\n",
    "            trial_mask = np.logical_and(layout_mask, position_mask)\n",
    "\n",
    "            clip_list = list()\n",
    "            for trial_idx, (tstart, tstop) in enumerate(zip(tgtON[trial_mask] - 1, endhold[trial_mask])):\n",
    "                trial_clip = clip.subclip(tstart - cam_start, tstop - cam_start)\n",
    "                clip_list.append(trial_clip)\n",
    "\n",
    "            # concatenating both the clips\n",
    "            final = moviepy.editor.concatenate_videoclips(clip_list)\n",
    "\n",
    "            trial_dir = f'position{position_idx}_layout{layout_idx}'\n",
    "            if not os.path.exists(f'../data/video_trial_type/{trial_dir}/'):\n",
    "                os.mkdir(f'../data/video_trial_type/{trial_dir}/')\n",
    "\n",
    "            #writing the video into a file / saving the combined video\n",
    "            final.write_videofile(f'../data/video_trial_type/{trial_dir}/SpikeCam{cam_idx}_03-08-1557_position{position_idx}_layout{layout_idx}.mp4', fps=40)\n"
   ]
  },
  {
   "cell_type": "code",
   "execution_count": 32,
   "metadata": {},
   "outputs": [],
   "source": [
    "# # Stack clips into array\n",
    "# clip_list = list()\n",
    "# for cam_idx in range(1,7):\n",
    "#     clip = moviepy.editor.VideoFileClip(f'../data/video_trials/SpikeCam{cam_idx}_03-08-1557_trials_long.mp4')\n",
    "#     clip_list.append(clip)\n",
    "# clips_array = [[clip_list[0], clip_list[1], clip_list[2]], [clip_list[3], clip_list[4], clip_list[5]]]"
   ]
  },
  {
   "cell_type": "code",
   "execution_count": null,
   "metadata": {},
   "outputs": [],
   "source": []
  },
  {
   "cell_type": "code",
   "execution_count": 33,
   "metadata": {},
   "outputs": [
    {
     "name": "stdout",
     "output_type": "stream",
     "text": [
      "Moviepy - Building video Spike_03-08-1557_trials_stacked_long.mp4.\n",
      "Moviepy - Writing video Spike_03-08-1557_trials_stacked_long.mp4\n",
      "\n"
     ]
    },
    {
     "name": "stderr",
     "output_type": "stream",
     "text": [
      "                                                                      \r"
     ]
    },
    {
     "name": "stdout",
     "output_type": "stream",
     "text": [
      "Moviepy - Done !\n",
      "Moviepy - video ready Spike_03-08-1557_trials_stacked_long.mp4\n"
     ]
    }
   ],
   "source": [
    "# final_clip = moviepy.editor.clips_array(clips_array)\n",
    "# final_clip.write_videofile(\"Spike_03-08-1557_trials_stacked_long.mp4\")"
   ]
  },
  {
   "cell_type": "code",
   "execution_count": null,
   "metadata": {},
   "outputs": [],
   "source": []
  }
 ],
 "metadata": {
  "kernelspec": {
   "display_name": "Python 3.8.16 ('DLC')",
   "language": "python",
   "name": "python3"
  },
  "language_info": {
   "codemirror_mode": {
    "name": "ipython",
    "version": 3
   },
   "file_extension": ".py",
   "mimetype": "text/x-python",
   "name": "python",
   "nbconvert_exporter": "python",
   "pygments_lexer": "ipython3",
   "version": "3.8.16"
  },
  "orig_nbformat": 4,
  "vscode": {
   "interpreter": {
    "hash": "5dc71ca6b8380d643f679145842051aa13293529e49ec11dff3e761003b5a87e"
   }
  }
 },
 "nbformat": 4,
 "nbformat_minor": 2
}
